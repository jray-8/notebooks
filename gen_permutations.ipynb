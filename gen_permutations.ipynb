{
 "cells": [
  {
   "cell_type": "markdown",
   "id": "2e40f530",
   "metadata": {},
   "source": [
    "# __Generating Permutations__\n",
    "\n",
    "Let us run through differnt algorithms to help us generate all permutations of an `array` or `string`.\n",
    "\n",
    "First, we note that if we can generate all integer sequences from $0..(n-1)$, we can map such sequences to other data structures.\n",
    "\n",
    "For instance,\n",
    "\n",
    "`A = [10, 21, 16, 8]`\n",
    "\n",
    "`n = 4`\n",
    "\n",
    "The integer __path__ `<0, 2, 3, 1>` corresponds to the array `[10, 16, 8, 21]`\n",
    "\n",
    "Also, remember that there are `n!` ways to order `n` items."
   ]
  },
  {
   "cell_type": "code",
   "execution_count": 1,
   "id": "2a78be5f",
   "metadata": {},
   "outputs": [],
   "source": [
    "def map_indices(path, array):\n",
    "\treturn (array[i] for i in path)\n",
    "\n",
    "def print_path(path):\n",
    "\tprint(', '.join(str(x) for x in path))"
   ]
  },
  {
   "cell_type": "markdown",
   "id": "5caf7833",
   "metadata": {},
   "source": [
    "## Table of Contents\n",
    "\n",
    "- [BFS](#bfs)\n",
    "\n",
    "- [DFS](#dfs)\n",
    "\n",
    "- [DFS Optimizations](#optim)\n",
    "\n",
    "- [Advanced Algorithms](#advanced-algorithms)\n",
    "\n",
    "- [Empirical Time Tests](#time-tests)\n",
    "\n",
    "- [Summary](#summary)\n",
    "\n",
    "- [Bonus (Generate Unique)](#unique)"
   ]
  },
  {
   "cell_type": "markdown",
   "id": "0682eaf6",
   "metadata": {},
   "source": [
    "<h2 id=\"bfs\">Tree Traversals – Breadth-First Search</h2>"
   ]
  },
  {
   "cell_type": "code",
   "execution_count": 2,
   "id": "ffa03049",
   "metadata": {},
   "outputs": [],
   "source": [
    "from collections import deque\n",
    "\n",
    "# Time:  O(n! * n^2)\n",
    "# Space: O(n! * n)\n",
    "\n",
    "def gen_bfs(n):\n",
    "\tqueue = deque() # FIFO queue of partial paths to process\n",
    "\tqueue.append([]) # Start with an empty path\n",
    "\t\n",
    "\t# While there are paths to process\n",
    "\twhile queue:\n",
    "\t\tpath = queue.popleft()\n",
    "\t\t\n",
    "\t\t# If the path is complete, print the permutation\n",
    "\t\tif len(path) == n:\n",
    "\t\t\tprint_path(path)\n",
    "\t\t\tcontinue\n",
    "\t\t\n",
    "\t\t# Explore every unused number from 0 to n-1\n",
    "\t\tfor i in range(n):\n",
    "\t\t\tif i not in path:\n",
    "\t\t\t\tnew_path = path + [i]\n",
    "\t\t\t\tqueue.append(new_path)"
   ]
  },
  {
   "cell_type": "code",
   "execution_count": 3,
   "id": "f80c32d3",
   "metadata": {},
   "outputs": [
    {
     "name": "stdout",
     "output_type": "stream",
     "text": [
      "0, 1, 2\n",
      "0, 2, 1\n",
      "1, 0, 2\n",
      "1, 2, 0\n",
      "2, 0, 1\n",
      "2, 1, 0\n"
     ]
    }
   ],
   "source": [
    "# Example usage\n",
    "gen_bfs(3)"
   ]
  },
  {
   "cell_type": "markdown",
   "id": "db998032",
   "metadata": {},
   "source": [
    "### Time Complexity Analysis\n",
    "\n",
    "The function `gen_bfs(n)` generates all permutations of integers from $0$ to $n - 1$ using a **BFS**. We'll analyze the total time complexity in two parts: the number of paths processed and the work done per path.\n",
    "\n",
    "---\n",
    "\n",
    "**1. Number of Paths**\n",
    "\n",
    "At each level $k$ $(0 \\leq k \\leq n)$ of the BFS tree, the algorithm generates all permutations of length $k$. The number of such partial paths is:\n",
    "\n",
    "$$\n",
    "\\sum_{k=0}^{n} \\frac{n!}{(n-k)!} = n! \\cdot \\sum_{k=0}^{n} \\frac{1}{k!}\n",
    "$$\n",
    "\n",
    "The Taylor series for $e^x$ is $\\displaystyle e^x = \\sum_{i=0}^{\\infin} \\frac{x^i}{i!}$\n",
    "\n",
    "Therefore, $\\displaystyle e^1 = \\sum_{i=0}^{\\infin} \\frac{1}{i!}$\n",
    "\n",
    "Then, we know $\\displaystyle \\sum_{k=0}^{n} \\frac{1}{k!} < e$, a constant, so:\n",
    "\n",
    "$$\n",
    "\\text{Total paths} = O(n! \\cdot e) = O(n!)\n",
    "$$\n",
    "\n",
    "---\n",
    "\n",
    "**2. Work Per Path**\n",
    "\n",
    "The following loop is run for each partial path:\n",
    "\n",
    "```python\n",
    "for i in range(n):\n",
    "    if i not in path:\n",
    "        new_path = path + [i]\n",
    "        queue.append(new_path)\n",
    "```\n",
    "\n",
    "Each line inside the loop contributes:\n",
    "\n",
    "- `for i in range(n)`: runs everything $n$ times\n",
    "\t- `if i not in path`: linear search in a list of length up to $n$ $\\Rightarrow O(n)$\n",
    "\t- `new_path = path + [i]`: list copy (size up to $n$) $\\Rightarrow O(n)$\n",
    "\t- `queue.append(...)`: constant time $\\Rightarrow O(1)$\n",
    "\n",
    "So each iteration is $O(n)$, and with $n$ iterations total, the full block runs in:\n",
    "\n",
    "$$\n",
    "O(n) \\cdot O(n + n + 1) = O(n^2)\n",
    "$$\n",
    "\n",
    "---\n",
    "\n",
    "**3. Total Time Complexity**\n",
    "\n",
    "We process $O(n!)$ partial and complete paths. Each path requires $O(n^2)$ work in the worst case.\n",
    "\n",
    "Therefore, the total time complexity is:\n",
    "\n",
    "$$\n",
    "O(n!) \\cdot O(n^2) = \\boxed{O(n! \\cdot n^2)}\n",
    "$$\n"
   ]
  },
  {
   "cell_type": "markdown",
   "id": "63ecb9ca",
   "metadata": {},
   "source": [
    "### Space Complexity Analysis\n",
    "\n",
    "We know the `queue` will store $O(n!)$ partial paths throughout the algorithm.\n",
    "\n",
    "Each path takes up to $O(n)$ space (a list of integers), so total queue space is:\n",
    "\n",
    "$$\n",
    "O(n!) \\cdot O(n) = \\boxed{O(n! \\cdot n)}\n",
    "$$"
   ]
  },
  {
   "cell_type": "markdown",
   "id": "221c5919",
   "metadata": {},
   "source": [
    "<h2 id=\"dfs\">Depth-First Search</h2>"
   ]
  },
  {
   "cell_type": "code",
   "execution_count": 4,
   "id": "d3836654",
   "metadata": {},
   "outputs": [],
   "source": [
    "# Time:  O(n! * n)\n",
    "# Space: O(n)\n",
    "\n",
    "def gen_dfs(n):\n",
    "\tused = [False] * n\n",
    "\n",
    "\tdef advance(path):\n",
    "\t\t# New permutation\n",
    "\t\tif len(path) == n:\n",
    "\t\t\t# Do something here\n",
    "\t\t\tprint_path(path) # -- we will just print the integer path from now on\n",
    "\t\t\treturn\n",
    "\t\t# Go down all remaining pathways\n",
    "\t\tfor i in range(n):\n",
    "\t\t\tif not used[i]:\n",
    "\t\t\t\tused[i] = True\n",
    "\t\t\t\tpath.append(i)\n",
    "\t\t\t\tadvance(path)\n",
    "\t\t\t\tpath.pop() # Backtrack\n",
    "\t\t\t\tused[i] = False\n",
    "\n",
    "\tadvance([])"
   ]
  },
  {
   "cell_type": "code",
   "execution_count": 5,
   "id": "869a1f4e",
   "metadata": {},
   "outputs": [
    {
     "name": "stdout",
     "output_type": "stream",
     "text": [
      "0, 1, 2\n",
      "0, 2, 1\n",
      "1, 0, 2\n",
      "1, 2, 0\n",
      "2, 0, 1\n",
      "2, 1, 0\n"
     ]
    }
   ],
   "source": [
    "# Example usage\n",
    "gen_dfs(3) # Output: 3! = 6 permutations"
   ]
  },
  {
   "cell_type": "markdown",
   "id": "2d91438e",
   "metadata": {},
   "source": [
    "### Time Complexity Analysis\n",
    "\n",
    "The function `gen_dfs(n)` generates all permutations of integers from $0$ to $n - 1$ using a **DFS**. We'll analyze the time complexity in terms of:\n",
    "\n",
    "- The number of recursive calls (i.e., number of paths visited)\n",
    "\n",
    "- The work done per recursive call\n",
    "\n",
    "---\n",
    "\n",
    "**1. Number of Recursive Calls**\n",
    "\n",
    "At each level $k$ of the recursion tree $(0 \\leq k \\leq n)$, we build partial permutations of length $k$.\n",
    "\n",
    "At level $k$, the number of paths is:\n",
    "\n",
    "$$\n",
    "\\frac{n!}{(n - k)!}\n",
    "$$\n",
    "\n",
    "Summing over all levels:\n",
    "\n",
    "$$\n",
    "\\sum_{k=0}^{n} \\frac{n!}{(n-k)!} = n! \\cdot \\sum_{k=0}^{n} \\frac{1}{k!} = O(n!)\n",
    "$$\n",
    "\n",
    "So, total recursive calls (nodes in the DFS tree) is:\n",
    "\n",
    "$$\n",
    "O(n!)\n",
    "$$\n",
    "\n",
    "---\n",
    "\n",
    "**2. Work Per Call**\n",
    "\n",
    "Each recursive call does:\n",
    "\n",
    "- `if len(path) == n`: $O(1)$\n",
    "- Loop over all $n$ values:\n",
    "  - `if not used[i]`: $O(1)$\n",
    "  - `used[i] = True`, `path.append(i)`: $O(1)$\n",
    "  - `advance(path)`: recursive call\n",
    "  - `path.pop()`, `used[i] = False`: $O(1)$\n",
    "\n",
    "Each call performs a loop of $n$ iterations, with $O(1)$ work per iteration (excluding the recursive call itself).\n",
    "\n",
    "So, each call performs:\n",
    "\n",
    "$$\n",
    "O(n)\n",
    "$$\n",
    "\n",
    "---\n",
    "\n",
    "**3. Total Time Complexity**\n",
    "\n",
    "We perform $O(n!)$ recursive calls, each doing $O(n)$ work.\n",
    "\n",
    "Hence, total time complexity is:\n",
    "\n",
    "$$\n",
    "O(n!) \\cdot O(n) = \\boxed{O(n! \\cdot n)}\n",
    "$$\n"
   ]
  },
  {
   "cell_type": "markdown",
   "id": "f0e9ca19",
   "metadata": {},
   "source": [
    "### Space Complexity Analysis\n",
    "\n",
    "**1. Recursive Call Stack**\n",
    "\n",
    "The function makes recursive calls, with the depth of recursion being at most $n$—since we are building paths of length $n$.\n",
    "\n",
    "Each recursive call adds a new frame to the call stack. Therefore, the space required for the recursive call stack is:\n",
    "\n",
    "$$\n",
    "O(n)\n",
    "$$\n",
    "\n",
    "---\n",
    "\n",
    "**2. Auxiliary Data Structures**\n",
    "\n",
    "- `used`: This is an array of size $n$, used to track which numbers have been used in the current path.\n",
    "\n",
    "\tIt is shared between calls through closure. Therefore, it independently takes:\n",
    "\n",
    "$$\n",
    "O(n)\n",
    "$$\n",
    "\n",
    "- `path`: The path stores the current permutation being built. It's passed by reference, so only 1 array is used in memory.\n",
    "\n",
    "\tAt the deepest level of recursion, the path contains $n$ integers. So, the space taken by the path is:\n",
    "\n",
    "$$\n",
    "O(n)\n",
    "$$\n",
    "\n",
    "---\n",
    "\n",
    "**3. Total Space Complexity**\n",
    "\n",
    "The total space complexity is the sum of:\n",
    "\n",
    "- Space for the recursive call stack: $O(n)$\n",
    "- Space for the `used` array: $O(n)$\n",
    "- Space for the `path` array: $O(n)$\n",
    "\n",
    "Thus, the total space complexity is:\n",
    "\n",
    "$$\n",
    "O(n) + O(n) + O(n) = \\boxed{O(n)}\n",
    "$$"
   ]
  },
  {
   "cell_type": "markdown",
   "id": "458cf7cd",
   "metadata": {},
   "source": [
    "<h2 id=\"optim\">Optimizations</h2>\n",
    "\n",
    "In the case of generating permutations, it seems that __DFS__ is superior to __BFS__ in terms of both time and memory.\n",
    "\n",
    "Now, let us try to optimize the __DFS__ further:"
   ]
  },
  {
   "cell_type": "code",
   "execution_count": 6,
   "id": "35072c70",
   "metadata": {},
   "outputs": [],
   "source": [
    "# Time:  O(n! * n)\n",
    "# Space: O(n) \n",
    "# We use an integer bitmask, instead of an array of size n\n",
    "\n",
    "def gen_dfs_bitmask(n):\n",
    "\tdef dfs(path, mask):\n",
    "\t\tif len(path) == n:\n",
    "\t\t\tprint_path(path)\n",
    "\t\t\treturn\n",
    "\t\tfor i in range(n):\n",
    "\t\t\tif not (mask & (1 << i)):\n",
    "\t\t\t\tpath.append(i)\n",
    "\t\t\t\tdfs(path, mask | (1 << i))\n",
    "\t\t\t\tpath.pop()\n",
    "\tdfs([], 0)"
   ]
  },
  {
   "cell_type": "code",
   "execution_count": 7,
   "id": "c335bd8f",
   "metadata": {},
   "outputs": [
    {
     "name": "stdout",
     "output_type": "stream",
     "text": [
      "0, 1, 2\n",
      "0, 2, 1\n",
      "1, 0, 2\n",
      "1, 2, 0\n",
      "2, 0, 1\n",
      "2, 1, 0\n"
     ]
    }
   ],
   "source": [
    "# Example usage\n",
    "gen_dfs_bitmask(3)"
   ]
  },
  {
   "cell_type": "markdown",
   "id": "01bb334f",
   "metadata": {},
   "source": [
    "We can also use an iterative __DFS__ approach instead of relying on recursion.\n",
    "\n",
    "This algorithm will behave identically in terms of asymptotic time and space complexity,  \n",
    "but it may reduce constant overhead associated with setting up call frames on the call stack during recursion."
   ]
  },
  {
   "cell_type": "code",
   "execution_count": 8,
   "id": "66a2691c",
   "metadata": {},
   "outputs": [],
   "source": [
    "# Time:  O(n! * n)\n",
    "# Space: O(n)\n",
    "\n",
    "def gen_dfs_iterative(n):\n",
    "\tstack = [(None, 0)] # Stack of (value_to_add_next, depth)\n",
    "\tpath = []\n",
    "\tused = set()\n",
    "\n",
    "\twhile stack:\n",
    "\t\tval, depth = stack.pop()\n",
    "\n",
    "\t\tif depth > 0:\n",
    "\t\t\t# Ensure anything at or above the current solution depth is removed\n",
    "\t\t\twhile len(path) >= depth:\n",
    "\t\t\t\tx = path.pop()\n",
    "\t\t\t\tused.remove(x)\n",
    "\n",
    "\t\t\t# Add next integer to the path\n",
    "\t\t\tpath.append(val)\n",
    "\t\t\tused.add(val)\n",
    "\n",
    "\t\t\t# Full permutation\n",
    "\t\t\tif depth == n:\n",
    "\t\t\t\tprint_path(path)\n",
    "\t\t\t\tcontinue\n",
    "\n",
    "\t\t# Add next nodes to the stack\n",
    "\t\tfor i in range(n-1, -1, -1):\n",
    "\t\t\tif i not in used:\n",
    "\t\t\t\tstack.append((i, depth + 1))"
   ]
  },
  {
   "cell_type": "code",
   "execution_count": 9,
   "id": "22bbdea8",
   "metadata": {},
   "outputs": [
    {
     "name": "stdout",
     "output_type": "stream",
     "text": [
      "0, 1, 2\n",
      "0, 2, 1\n",
      "1, 0, 2\n",
      "1, 2, 0\n",
      "2, 0, 1\n",
      "2, 1, 0\n"
     ]
    }
   ],
   "source": [
    "# Example usage\n",
    "gen_dfs_iterative(3)"
   ]
  },
  {
   "cell_type": "code",
   "execution_count": 10,
   "id": "3ae3e7aa",
   "metadata": {},
   "outputs": [],
   "source": [
    "# Time:  O(n! * n)\n",
    "# Space: O(n)\n",
    "\n",
    "def gen_dfs_bitmask_iterative(n):\n",
    "\tstack = [(None, 0, 0)] # Stack of (value_to_add_next, depth, mask)\n",
    "\tpath = [None] * n # Reuse this array\n",
    "\n",
    "\twhile stack:\n",
    "\t\tval, depth, mask = stack.pop()\n",
    "\n",
    "\t\tif depth > 0:\n",
    "\t\t\tpath[depth-1] = val\n",
    "\n",
    "\t\tif depth == n:\n",
    "\t\t\tprint_path(path)\n",
    "\t\t\tcontinue\n",
    "\n",
    "\t\tfor i in range(n-1, -1, -1):\n",
    "\t\t\tif not (mask & (1 << i)):\n",
    "\t\t\t\tstack.append((i, depth + 1, mask | (1 << i)))"
   ]
  },
  {
   "cell_type": "code",
   "execution_count": 11,
   "id": "7ee78f2c",
   "metadata": {},
   "outputs": [
    {
     "name": "stdout",
     "output_type": "stream",
     "text": [
      "0, 1, 2\n",
      "0, 2, 1\n",
      "1, 0, 2\n",
      "1, 2, 0\n",
      "2, 0, 1\n",
      "2, 1, 0\n"
     ]
    }
   ],
   "source": [
    "# Example usage\n",
    "gen_dfs_bitmask_iterative(3)"
   ]
  },
  {
   "cell_type": "markdown",
   "id": "7dfafa6e",
   "metadata": {},
   "source": [
    "We can also use a generator instead of a function to __lazily__ compute permutations only when they are needed,  \n",
    "rather than evaluating everything at once.\n",
    "\n",
    "The number of operations and memory-usage will be exactly the same as the previous __DFS__,  \n",
    "but we can choose to execute the algorithm in stages, dispersing the work load over time."
   ]
  },
  {
   "cell_type": "code",
   "execution_count": 12,
   "id": "ecf93cf9",
   "metadata": {},
   "outputs": [],
   "source": [
    "# Time:  O(n! * n)\n",
    "# Space: O(n)\n",
    "\n",
    "def gen_lazy(n):\n",
    "\tdef dfs(path, mask):\n",
    "\t\tif len(path) == n:\n",
    "\t\t\tyield path\n",
    "\t\telse:\n",
    "\t\t\tfor i in range(n):\n",
    "\t\t\t\tif not (mask & (1 << i)):\n",
    "\t\t\t\t\tpath.append(i)\n",
    "\t\t\t\t\t# Start generating from a sub-generator (itself)\n",
    "\t\t\t\t\tyield from dfs(path, mask | (1 << i))\n",
    "\t\t\t\t\tpath.pop()\n",
    "\tyield from dfs([], 0)"
   ]
  },
  {
   "cell_type": "code",
   "execution_count": 13,
   "id": "9dfc3276",
   "metadata": {},
   "outputs": [
    {
     "name": "stdout",
     "output_type": "stream",
     "text": [
      "0, 1, 2, 3, 4, 5, 6, 7, 8, 9, 10, 11, 12, 13, 14, 15, 16, 17, 18, 19\n",
      "0, 1, 2, 3, 4, 5, 6, 7, 8, 9, 10, 11, 12, 13, 14, 15, 16, 17, 19, 18\n",
      "0, 1, 2, 3, 4, 5, 6, 7, 8, 9, 10, 11, 12, 13, 14, 15, 16, 18, 17, 19\n",
      "0, 1, 2, 3, 4, 5, 6, 7, 8, 9, 10, 11, 12, 13, 14, 15, 16, 18, 19, 17\n",
      "0, 1, 2, 3, 4, 5, 6, 7, 8, 9, 10, 11, 12, 13, 14, 15, 16, 19, 17, 18\n",
      "\n",
      "Do other things...\n",
      "\n",
      "0, 1, 2, 3, 4, 5, 6, 7, 8, 9, 10, 11, 12, 13, 14, 15, 16, 19, 18, 17\n",
      "0, 1, 2, 3, 4, 5, 6, 7, 8, 9, 10, 11, 12, 13, 14, 15, 17, 16, 18, 19\n",
      "0, 1, 2, 3, 4, 5, 6, 7, 8, 9, 10, 11, 12, 13, 14, 15, 17, 16, 19, 18\n",
      "0, 1, 2, 3, 4, 5, 6, 7, 8, 9, 10, 11, 12, 13, 14, 15, 17, 18, 16, 19\n",
      "0, 1, 2, 3, 4, 5, 6, 7, 8, 9, 10, 11, 12, 13, 14, 15, 17, 18, 19, 16\n"
     ]
    }
   ],
   "source": [
    "# Example usage\n",
    "path_generator = gen_lazy(20)\n",
    "\n",
    "# First 5 permutations\n",
    "for _ in range(5):\n",
    "\tprint_path(next(path_generator))\n",
    "\n",
    "# Next 5 permutations (called later)\n",
    "print('\\nDo other things...\\n')\n",
    "for _ in range(5):\n",
    "\tprint_path(next(path_generator))"
   ]
  },
  {
   "cell_type": "markdown",
   "id": "119b4931",
   "metadata": {},
   "source": [
    "<h2 id=\"advanced-algorithms\">Advanced Algorithms</h2>\n",
    "\n",
    "Next, we will look at some advanced permutation-generating algorithms that may reduce the time complexity further or offer other benefits.\n",
    "\n",
    "These algorithms all start with an initial permutation and modify it in-place to run through all possibilities once.\n",
    "\n",
    "- [Heap's Algorithm](https://en.wikipedia.org/wiki/Heap%27s_algorithm)\n",
    "\n",
    "- [Knuth's Algorithm L](https://guptamukul.blogspot.com/2009/12/understanding-algorithm-l_05.html)\n",
    "\n",
    "- [Steinhaus–Johnson–Trotter Algorithm](https://en.wikipedia.org/wiki/Steinhaus%E2%80%93Johnson%E2%80%93Trotter_algorithm)"
   ]
  },
  {
   "cell_type": "code",
   "execution_count": 14,
   "id": "d7ea90f6",
   "metadata": {},
   "outputs": [],
   "source": [
    "# Time:  O(n! * n)\n",
    "# Space: O(n)\n",
    "\n",
    "def gen_heaps(n):\n",
    "\tpath = list(range(n)) # First permutation\n",
    "\n",
    "\tdef dfs(k):\n",
    "\t\tif k == 1:\n",
    "\t\t\tprint_path(path)\n",
    "\t\t\treturn\n",
    "\t\tfor i in range(k):\n",
    "\t\t\tdfs(k-1)\n",
    "\t\t\t# In-place swapping\n",
    "\t\t\tif k % 2 == 0: # Even k\n",
    "\t\t\t\tpath[i], path[k-1] = path[k-1], path[i]\n",
    "\t\t\telse: # Odd k\n",
    "\t\t\t\tpath[0], path[k-1] = path[k-1], path[0]\n",
    "\n",
    "\tdfs(n)"
   ]
  },
  {
   "cell_type": "code",
   "execution_count": 15,
   "id": "ac07638d",
   "metadata": {},
   "outputs": [
    {
     "name": "stdout",
     "output_type": "stream",
     "text": [
      "0, 1, 2\n",
      "1, 0, 2\n",
      "2, 0, 1\n",
      "0, 2, 1\n",
      "1, 2, 0\n",
      "2, 1, 0\n"
     ]
    }
   ],
   "source": [
    "# Example usage\n",
    "gen_heaps(3) # Order NOT lexicographic, but very efficient"
   ]
  },
  {
   "cell_type": "code",
   "execution_count": 16,
   "id": "4eb86da2",
   "metadata": {},
   "outputs": [],
   "source": [
    "# Time:  O(n! * n)\n",
    "# Space: O(n)  Just the permutation array (in-place modification)\n",
    "\n",
    "# Guarantees lexicographic order of permutations\n",
    "\n",
    "def gen_knuth_L(n):\n",
    "\tpath = list(range(n)) # Start with the lowest lex permutation\n",
    "\n",
    "\tdef next_permutation():\n",
    "\t\t# Step 1: Find largest i such that path[i] < path[i+1]\n",
    "\t\ti = n - 2\n",
    "\t\twhile i >= 0 and path[i] >= path[i+1]:\n",
    "\t\t\ti -= 1\n",
    "\t\tif i < 0:\n",
    "\t\t\treturn False # Last permutation reached\n",
    "\t\t\n",
    "\t\t# Step 2: Find largest j > i such that path[i] < path[j]\n",
    "\t\tj = n - 1\n",
    "\t\twhile path[j] <= path[i]:\n",
    "\t\t\tj -= 1\n",
    "\n",
    "\t\t# Step 3: Swap elements at i and j\n",
    "\t\tpath[i], path[j] = path[j], path[i]\n",
    "\n",
    "\t\t# Step 4: Reverse suffix\n",
    "\t\tpath[i + 1:] = reversed(path[i + 1:])\n",
    "\t\treturn True\n",
    "\t\n",
    "\t# First permutation\n",
    "\tprint_path(path)\n",
    "\twhile next_permutation():\n",
    "\t\tprint_path(path)"
   ]
  },
  {
   "cell_type": "code",
   "execution_count": 17,
   "id": "374079e6",
   "metadata": {},
   "outputs": [
    {
     "name": "stdout",
     "output_type": "stream",
     "text": [
      "0, 1, 2\n",
      "0, 2, 1\n",
      "1, 0, 2\n",
      "1, 2, 0\n",
      "2, 0, 1\n",
      "2, 1, 0\n"
     ]
    }
   ],
   "source": [
    "# Example usage\n",
    "gen_knuth_L(3) # Lexicographic order"
   ]
  },
  {
   "cell_type": "code",
   "execution_count": 18,
   "id": "0de5edea",
   "metadata": {},
   "outputs": [],
   "source": [
    "# Time:  O(n! * n)\n",
    "# Space: O(n)\n",
    "\n",
    "# Generates permutations in \"minimal-change order\" \n",
    "# - where each new permutation differs from the previous by a single adjacent swap\n",
    "\n",
    "def gen_sjt(n):\n",
    "\tpath = list(range(n))\n",
    "\tdirs = [-1] * n # Directions: -1 = left, +1 = right\n",
    "\n",
    "\tdef find_largest_mobile():\n",
    "\t\tlargest = -1\n",
    "\t\tindex = -1\n",
    "\t\tfor i in range(n):\n",
    "\t\t\tj = i + dirs[i]\n",
    "\t\t\tif 0 <= j < n and path[i] > path[j]:\n",
    "\t\t\t\tif path[i] > largest:\n",
    "\t\t\t\t\tlargest = path[i]\n",
    "\t\t\t\t\tindex = i\n",
    "\t\treturn index\n",
    "\t\n",
    "\tprint_path(path)\n",
    "\twhile True:\n",
    "\t\ti = find_largest_mobile()\n",
    "\t\tif i == -1:\n",
    "\t\t\tbreak # No mobile elements left\n",
    "\n",
    "\t\tj = i + dirs[i]\n",
    "\t\tpath[i], path[j] = path[j], path[i]\n",
    "\t\tdirs[i], dirs[j] = dirs[j], dirs[i]\n",
    "\n",
    "\t\t# After move, reverse direction of all elements > moved one\n",
    "\t\tmoved_val = path[j]\n",
    "\t\tfor k in range(n):\n",
    "\t\t\tif path[k] > moved_val:\n",
    "\t\t\t\tdirs[k] *= -1\n",
    "\n",
    "\t\tprint_path(path)"
   ]
  },
  {
   "cell_type": "code",
   "execution_count": 19,
   "id": "dd880642",
   "metadata": {},
   "outputs": [
    {
     "name": "stdout",
     "output_type": "stream",
     "text": [
      "0, 1, 2\n",
      "0, 2, 1\n",
      "2, 0, 1\n",
      "2, 1, 0\n",
      "1, 2, 0\n",
      "1, 0, 2\n"
     ]
    }
   ],
   "source": [
    "# Example usage\n",
    "gen_sjt(3) # Order NOT lexicographic"
   ]
  },
  {
   "cell_type": "markdown",
   "id": "bc39d669",
   "metadata": {},
   "source": [
    "<h2 id=\"time-tests\">Time & Space Comparisons</h2>"
   ]
  },
  {
   "cell_type": "code",
   "execution_count": 20,
   "id": "0166be4a",
   "metadata": {},
   "outputs": [],
   "source": [
    "import time\n",
    "\n",
    "# First, let us replace the output function to something trivial\n",
    "def print_path(path):\n",
    "\treturn None # Do nothing\n",
    "\n",
    "def measure_time(func, n, iterations):\n",
    "\t''' Runs the `func` `iterations` times,  \n",
    "\t\tmeasuring only CPU processing time, and averaging the results\n",
    "\t'''\n",
    "\ttotal_time = 0\n",
    "\tfor _ in range(iterations):\n",
    "\t\tstart = time.process_time()\n",
    "\t\tfunc(n) # Call the algorithm with input n\n",
    "\t\tend = time.process_time()\n",
    "\t\ttotal_time += (end - start)\n",
    "\n",
    "\tavg_time = total_time / iterations\n",
    "\treturn avg_time\n",
    "\n",
    "def test_lazy_dfs(n):\n",
    "\t''' Helper for testing the lazy generator '''\n",
    "\tg = gen_lazy(n)\n",
    "\tfor _ in g:\n",
    "\t\tpass\n",
    "\n",
    "algorithms = {\n",
    "\t\t'gen_bfs': gen_bfs,\n",
    "\t\t'gen_dfs': gen_dfs,\n",
    "\t\t'gen_dfs_bitmask': gen_dfs_bitmask,\n",
    "\t\t'gen_dfs_iterative': gen_dfs_iterative,\n",
    "\t\t'gen_dfs_bitmask_iterative': gen_dfs_bitmask_iterative,\n",
    "\t\t'gen_lazy': test_lazy_dfs,\n",
    "\t\t'gen_heaps': gen_heaps,\n",
    "\t\t'gen_knuth_L': gen_knuth_L,\n",
    "\t\t'gen_sjt': gen_sjt\n",
    "\t}\n",
    "\n",
    "def test_all(n, iterations=5):\n",
    "\t''' Measure the average processing time of each algorithm. '''\n",
    "\tresults = {} # name -> avg_time (in seconds)\n",
    "\n",
    "\tprint(f'Average times for generating {n}-permutations, {iterations} times each:\\n')\n",
    "\tfor name, func in algorithms.items():\n",
    "\t\tavg_time = measure_time(func, n, iterations)\n",
    "\t\tresults[name] = avg_time\n",
    "\t\tprint(f'{name:>26}: {avg_time:.10f}s')\n",
    "\n",
    "\treturn results"
   ]
  },
  {
   "cell_type": "code",
   "execution_count": 21,
   "id": "2ac7dc07",
   "metadata": {},
   "outputs": [
    {
     "name": "stdout",
     "output_type": "stream",
     "text": [
      "Average times for generating 10-permutations, 5 times each:\n",
      "\n",
      "                   gen_bfs: 12.7187500000s\n",
      "                   gen_dfs: 7.8843750000s\n",
      "           gen_dfs_bitmask: 10.5218750000s\n",
      "         gen_dfs_iterative: 10.0968750000s\n",
      " gen_dfs_bitmask_iterative: 12.4656250000s\n",
      "                  gen_lazy: 13.7968750000s\n",
      "                 gen_heaps: 2.3281250000s\n",
      "               gen_knuth_L: 3.3812500000s\n",
      "                   gen_sjt: 10.0937500000s\n"
     ]
    }
   ],
   "source": [
    "results = test_all(10)"
   ]
  },
  {
   "cell_type": "code",
   "execution_count": 22,
   "id": "256874f0",
   "metadata": {},
   "outputs": [
    {
     "data": {
      "application/vnd.plotly.v1+json": {
       "config": {
        "plotlyServerURL": "https://plot.ly",
        "staticPlot": true
       },
       "data": [
        {
         "marker": {
          "color": "rgba(52, 152, 219, 0.65)"
         },
         "text": [
          "2.3281s",
          "3.3813s",
          "7.8844s",
          "10.0938s",
          "10.0969s",
          "10.5219s",
          "12.4656s",
          "12.7188s",
          "13.7969s"
         ],
         "textposition": "outside",
         "type": "bar",
         "x": [
          "Heap's Algorithm",
          "Knuth's Algorithm L",
          "DFS",
          "Steinhaus–Johnson–Trotter",
          "Iterative DFS",
          "DFS with bitmask",
          "Iterative DFS with bitmask",
          "BFS",
          "Lazy DFS"
         ],
         "y": [
          2.328125,
          3.38125,
          7.884375,
          10.09375,
          10.096875,
          10.521875,
          12.465625,
          12.71875,
          13.796875
         ]
        }
       ],
       "layout": {
        "height": 500,
        "margin": {
         "b": 100,
         "l": 40,
         "r": 40,
         "t": 60
        },
        "showlegend": false,
        "template": {
         "data": {
          "bar": [
           {
            "error_x": {
             "color": "#2a3f5f"
            },
            "error_y": {
             "color": "#2a3f5f"
            },
            "marker": {
             "line": {
              "color": "#E5ECF6",
              "width": 0.5
             },
             "pattern": {
              "fillmode": "overlay",
              "size": 10,
              "solidity": 0.2
             }
            },
            "type": "bar"
           }
          ],
          "barpolar": [
           {
            "marker": {
             "line": {
              "color": "#E5ECF6",
              "width": 0.5
             },
             "pattern": {
              "fillmode": "overlay",
              "size": 10,
              "solidity": 0.2
             }
            },
            "type": "barpolar"
           }
          ],
          "carpet": [
           {
            "aaxis": {
             "endlinecolor": "#2a3f5f",
             "gridcolor": "white",
             "linecolor": "white",
             "minorgridcolor": "white",
             "startlinecolor": "#2a3f5f"
            },
            "baxis": {
             "endlinecolor": "#2a3f5f",
             "gridcolor": "white",
             "linecolor": "white",
             "minorgridcolor": "white",
             "startlinecolor": "#2a3f5f"
            },
            "type": "carpet"
           }
          ],
          "choropleth": [
           {
            "colorbar": {
             "outlinewidth": 0,
             "ticks": ""
            },
            "type": "choropleth"
           }
          ],
          "contour": [
           {
            "colorbar": {
             "outlinewidth": 0,
             "ticks": ""
            },
            "colorscale": [
             [
              0,
              "#0d0887"
             ],
             [
              0.1111111111111111,
              "#46039f"
             ],
             [
              0.2222222222222222,
              "#7201a8"
             ],
             [
              0.3333333333333333,
              "#9c179e"
             ],
             [
              0.4444444444444444,
              "#bd3786"
             ],
             [
              0.5555555555555556,
              "#d8576b"
             ],
             [
              0.6666666666666666,
              "#ed7953"
             ],
             [
              0.7777777777777778,
              "#fb9f3a"
             ],
             [
              0.8888888888888888,
              "#fdca26"
             ],
             [
              1,
              "#f0f921"
             ]
            ],
            "type": "contour"
           }
          ],
          "contourcarpet": [
           {
            "colorbar": {
             "outlinewidth": 0,
             "ticks": ""
            },
            "type": "contourcarpet"
           }
          ],
          "heatmap": [
           {
            "colorbar": {
             "outlinewidth": 0,
             "ticks": ""
            },
            "colorscale": [
             [
              0,
              "#0d0887"
             ],
             [
              0.1111111111111111,
              "#46039f"
             ],
             [
              0.2222222222222222,
              "#7201a8"
             ],
             [
              0.3333333333333333,
              "#9c179e"
             ],
             [
              0.4444444444444444,
              "#bd3786"
             ],
             [
              0.5555555555555556,
              "#d8576b"
             ],
             [
              0.6666666666666666,
              "#ed7953"
             ],
             [
              0.7777777777777778,
              "#fb9f3a"
             ],
             [
              0.8888888888888888,
              "#fdca26"
             ],
             [
              1,
              "#f0f921"
             ]
            ],
            "type": "heatmap"
           }
          ],
          "heatmapgl": [
           {
            "colorbar": {
             "outlinewidth": 0,
             "ticks": ""
            },
            "colorscale": [
             [
              0,
              "#0d0887"
             ],
             [
              0.1111111111111111,
              "#46039f"
             ],
             [
              0.2222222222222222,
              "#7201a8"
             ],
             [
              0.3333333333333333,
              "#9c179e"
             ],
             [
              0.4444444444444444,
              "#bd3786"
             ],
             [
              0.5555555555555556,
              "#d8576b"
             ],
             [
              0.6666666666666666,
              "#ed7953"
             ],
             [
              0.7777777777777778,
              "#fb9f3a"
             ],
             [
              0.8888888888888888,
              "#fdca26"
             ],
             [
              1,
              "#f0f921"
             ]
            ],
            "type": "heatmapgl"
           }
          ],
          "histogram": [
           {
            "marker": {
             "pattern": {
              "fillmode": "overlay",
              "size": 10,
              "solidity": 0.2
             }
            },
            "type": "histogram"
           }
          ],
          "histogram2d": [
           {
            "colorbar": {
             "outlinewidth": 0,
             "ticks": ""
            },
            "colorscale": [
             [
              0,
              "#0d0887"
             ],
             [
              0.1111111111111111,
              "#46039f"
             ],
             [
              0.2222222222222222,
              "#7201a8"
             ],
             [
              0.3333333333333333,
              "#9c179e"
             ],
             [
              0.4444444444444444,
              "#bd3786"
             ],
             [
              0.5555555555555556,
              "#d8576b"
             ],
             [
              0.6666666666666666,
              "#ed7953"
             ],
             [
              0.7777777777777778,
              "#fb9f3a"
             ],
             [
              0.8888888888888888,
              "#fdca26"
             ],
             [
              1,
              "#f0f921"
             ]
            ],
            "type": "histogram2d"
           }
          ],
          "histogram2dcontour": [
           {
            "colorbar": {
             "outlinewidth": 0,
             "ticks": ""
            },
            "colorscale": [
             [
              0,
              "#0d0887"
             ],
             [
              0.1111111111111111,
              "#46039f"
             ],
             [
              0.2222222222222222,
              "#7201a8"
             ],
             [
              0.3333333333333333,
              "#9c179e"
             ],
             [
              0.4444444444444444,
              "#bd3786"
             ],
             [
              0.5555555555555556,
              "#d8576b"
             ],
             [
              0.6666666666666666,
              "#ed7953"
             ],
             [
              0.7777777777777778,
              "#fb9f3a"
             ],
             [
              0.8888888888888888,
              "#fdca26"
             ],
             [
              1,
              "#f0f921"
             ]
            ],
            "type": "histogram2dcontour"
           }
          ],
          "mesh3d": [
           {
            "colorbar": {
             "outlinewidth": 0,
             "ticks": ""
            },
            "type": "mesh3d"
           }
          ],
          "parcoords": [
           {
            "line": {
             "colorbar": {
              "outlinewidth": 0,
              "ticks": ""
             }
            },
            "type": "parcoords"
           }
          ],
          "pie": [
           {
            "automargin": true,
            "type": "pie"
           }
          ],
          "scatter": [
           {
            "fillpattern": {
             "fillmode": "overlay",
             "size": 10,
             "solidity": 0.2
            },
            "type": "scatter"
           }
          ],
          "scatter3d": [
           {
            "line": {
             "colorbar": {
              "outlinewidth": 0,
              "ticks": ""
             }
            },
            "marker": {
             "colorbar": {
              "outlinewidth": 0,
              "ticks": ""
             }
            },
            "type": "scatter3d"
           }
          ],
          "scattercarpet": [
           {
            "marker": {
             "colorbar": {
              "outlinewidth": 0,
              "ticks": ""
             }
            },
            "type": "scattercarpet"
           }
          ],
          "scattergeo": [
           {
            "marker": {
             "colorbar": {
              "outlinewidth": 0,
              "ticks": ""
             }
            },
            "type": "scattergeo"
           }
          ],
          "scattergl": [
           {
            "marker": {
             "colorbar": {
              "outlinewidth": 0,
              "ticks": ""
             }
            },
            "type": "scattergl"
           }
          ],
          "scattermapbox": [
           {
            "marker": {
             "colorbar": {
              "outlinewidth": 0,
              "ticks": ""
             }
            },
            "type": "scattermapbox"
           }
          ],
          "scatterpolar": [
           {
            "marker": {
             "colorbar": {
              "outlinewidth": 0,
              "ticks": ""
             }
            },
            "type": "scatterpolar"
           }
          ],
          "scatterpolargl": [
           {
            "marker": {
             "colorbar": {
              "outlinewidth": 0,
              "ticks": ""
             }
            },
            "type": "scatterpolargl"
           }
          ],
          "scatterternary": [
           {
            "marker": {
             "colorbar": {
              "outlinewidth": 0,
              "ticks": ""
             }
            },
            "type": "scatterternary"
           }
          ],
          "surface": [
           {
            "colorbar": {
             "outlinewidth": 0,
             "ticks": ""
            },
            "colorscale": [
             [
              0,
              "#0d0887"
             ],
             [
              0.1111111111111111,
              "#46039f"
             ],
             [
              0.2222222222222222,
              "#7201a8"
             ],
             [
              0.3333333333333333,
              "#9c179e"
             ],
             [
              0.4444444444444444,
              "#bd3786"
             ],
             [
              0.5555555555555556,
              "#d8576b"
             ],
             [
              0.6666666666666666,
              "#ed7953"
             ],
             [
              0.7777777777777778,
              "#fb9f3a"
             ],
             [
              0.8888888888888888,
              "#fdca26"
             ],
             [
              1,
              "#f0f921"
             ]
            ],
            "type": "surface"
           }
          ],
          "table": [
           {
            "cells": {
             "fill": {
              "color": "#EBF0F8"
             },
             "line": {
              "color": "white"
             }
            },
            "header": {
             "fill": {
              "color": "#C8D4E3"
             },
             "line": {
              "color": "white"
             }
            },
            "type": "table"
           }
          ]
         },
         "layout": {
          "annotationdefaults": {
           "arrowcolor": "#2a3f5f",
           "arrowhead": 0,
           "arrowwidth": 1
          },
          "autotypenumbers": "strict",
          "coloraxis": {
           "colorbar": {
            "outlinewidth": 0,
            "ticks": ""
           }
          },
          "colorscale": {
           "diverging": [
            [
             0,
             "#8e0152"
            ],
            [
             0.1,
             "#c51b7d"
            ],
            [
             0.2,
             "#de77ae"
            ],
            [
             0.3,
             "#f1b6da"
            ],
            [
             0.4,
             "#fde0ef"
            ],
            [
             0.5,
             "#f7f7f7"
            ],
            [
             0.6,
             "#e6f5d0"
            ],
            [
             0.7,
             "#b8e186"
            ],
            [
             0.8,
             "#7fbc41"
            ],
            [
             0.9,
             "#4d9221"
            ],
            [
             1,
             "#276419"
            ]
           ],
           "sequential": [
            [
             0,
             "#0d0887"
            ],
            [
             0.1111111111111111,
             "#46039f"
            ],
            [
             0.2222222222222222,
             "#7201a8"
            ],
            [
             0.3333333333333333,
             "#9c179e"
            ],
            [
             0.4444444444444444,
             "#bd3786"
            ],
            [
             0.5555555555555556,
             "#d8576b"
            ],
            [
             0.6666666666666666,
             "#ed7953"
            ],
            [
             0.7777777777777778,
             "#fb9f3a"
            ],
            [
             0.8888888888888888,
             "#fdca26"
            ],
            [
             1,
             "#f0f921"
            ]
           ],
           "sequentialminus": [
            [
             0,
             "#0d0887"
            ],
            [
             0.1111111111111111,
             "#46039f"
            ],
            [
             0.2222222222222222,
             "#7201a8"
            ],
            [
             0.3333333333333333,
             "#9c179e"
            ],
            [
             0.4444444444444444,
             "#bd3786"
            ],
            [
             0.5555555555555556,
             "#d8576b"
            ],
            [
             0.6666666666666666,
             "#ed7953"
            ],
            [
             0.7777777777777778,
             "#fb9f3a"
            ],
            [
             0.8888888888888888,
             "#fdca26"
            ],
            [
             1,
             "#f0f921"
            ]
           ]
          },
          "colorway": [
           "#636efa",
           "#EF553B",
           "#00cc96",
           "#ab63fa",
           "#FFA15A",
           "#19d3f3",
           "#FF6692",
           "#B6E880",
           "#FF97FF",
           "#FECB52"
          ],
          "font": {
           "color": "#2a3f5f"
          },
          "geo": {
           "bgcolor": "white",
           "lakecolor": "white",
           "landcolor": "#E5ECF6",
           "showlakes": true,
           "showland": true,
           "subunitcolor": "white"
          },
          "hoverlabel": {
           "align": "left"
          },
          "hovermode": "closest",
          "mapbox": {
           "style": "light"
          },
          "paper_bgcolor": "white",
          "plot_bgcolor": "#E5ECF6",
          "polar": {
           "angularaxis": {
            "gridcolor": "white",
            "linecolor": "white",
            "ticks": ""
           },
           "bgcolor": "#E5ECF6",
           "radialaxis": {
            "gridcolor": "white",
            "linecolor": "white",
            "ticks": ""
           }
          },
          "scene": {
           "xaxis": {
            "backgroundcolor": "#E5ECF6",
            "gridcolor": "white",
            "gridwidth": 2,
            "linecolor": "white",
            "showbackground": true,
            "ticks": "",
            "zerolinecolor": "white"
           },
           "yaxis": {
            "backgroundcolor": "#E5ECF6",
            "gridcolor": "white",
            "gridwidth": 2,
            "linecolor": "white",
            "showbackground": true,
            "ticks": "",
            "zerolinecolor": "white"
           },
           "zaxis": {
            "backgroundcolor": "#E5ECF6",
            "gridcolor": "white",
            "gridwidth": 2,
            "linecolor": "white",
            "showbackground": true,
            "ticks": "",
            "zerolinecolor": "white"
           }
          },
          "shapedefaults": {
           "line": {
            "color": "#2a3f5f"
           }
          },
          "ternary": {
           "aaxis": {
            "gridcolor": "white",
            "linecolor": "white",
            "ticks": ""
           },
           "baxis": {
            "gridcolor": "white",
            "linecolor": "white",
            "ticks": ""
           },
           "bgcolor": "#E5ECF6",
           "caxis": {
            "gridcolor": "white",
            "linecolor": "white",
            "ticks": ""
           }
          },
          "title": {
           "x": 0.05
          },
          "xaxis": {
           "automargin": true,
           "gridcolor": "white",
           "linecolor": "white",
           "ticks": "",
           "title": {
            "standoff": 15
           },
           "zerolinecolor": "white",
           "zerolinewidth": 2
          },
          "yaxis": {
           "automargin": true,
           "gridcolor": "white",
           "linecolor": "white",
           "ticks": "",
           "title": {
            "standoff": 15
           },
           "zerolinecolor": "white",
           "zerolinewidth": 2
          }
         }
        },
        "title": {
         "text": "Average Time to Generate All 10-Permutations (5 Runs)"
        },
        "xaxis": {
         "title": {
          "text": "Algorithm"
         }
        },
        "yaxis": {
         "tickformat": ".2f",
         "title": {
          "text": "Average Time (seconds)"
         }
        }
       }
      }
     },
     "metadata": {},
     "output_type": "display_data"
    }
   ],
   "source": [
    "import plotly.graph_objects as go\n",
    "\n",
    "sorted_results = sorted(results.items(), key=lambda x: x[1])  # Sort by time\n",
    "\n",
    "# Algorithm titles\n",
    "label_map = {\n",
    "\t'gen_heaps': \"Heap's Algorithm\",\n",
    "\t'gen_knuth_L': \"Knuth's Algorithm L\",\n",
    "\t'gen_dfs': \"DFS\",\n",
    "\t'gen_dfs_bitmask': \"DFS with bitmask\",\n",
    "\t'gen_dfs_iterative': \"Iterative DFS\",\n",
    "\t'gen_dfs_bitmask_iterative': \"Iterative DFS with bitmask\",\n",
    "\t'gen_sjt': \"Steinhaus–Johnson–Trotter\",\n",
    "\t'gen_lazy': \"Lazy DFS\",\n",
    "\t'gen_bfs': \"BFS\"\n",
    "}\n",
    "\n",
    "# Prepare x and y values\n",
    "algorithms = [label_map[name] for name, _ in sorted_results]\n",
    "times = [time for _, time in sorted_results]\n",
    "\n",
    "# Create bar chart\n",
    "fig = go.Figure(data=[\n",
    "\tgo.Bar(\n",
    "\t\tx=algorithms,\n",
    "\t\ty=times,\n",
    "\t\tmarker=dict(color='rgba(52, 152, 219, 0.65)'),\n",
    "\t\ttext=[f'{t:.4f}s' for t in times],\n",
    "\t\ttextposition='outside'\n",
    "\t)\n",
    "])\n",
    "\n",
    "# Layout config\n",
    "fig.update_layout(\n",
    "\ttitle='Average Time to Generate All 10-Permutations (5 Runs)',\n",
    "\txaxis_title='Algorithm',\n",
    "\tyaxis_title='Average Time (seconds)',\n",
    "\tyaxis=dict(tickformat='.2f'),\n",
    "\tmargin=dict(l=40, r=40, t=60, b=100),\n",
    "\theight=500,\n",
    "\tshowlegend=False\n",
    ")\n",
    "\n",
    "fig.show(config={\n",
    "\t'staticPlot': True\n",
    "})"
   ]
  },
  {
   "cell_type": "markdown",
   "id": "dc875c6d",
   "metadata": {},
   "source": [
    "<h2 id=\"summary\">Summary</h2>\n",
    "\n",
    "| Algorithm                         | Time Complexity        | Space Complexity      | Lexicographic Order | Empirical Time for n=10 (avg. 5 reps) | Extra Notes                              |\n",
    "|-----------------------------------|:----------------------:|:---------------------:|:-------------------:|--------------------------------------:|:----------------------------------------:|\n",
    "| Heap's Algorithm                  | $O(n! \\cdot n)$        | $O(n)$                | No                  | 2.4468750000s                         | In-place permutation                     |\n",
    "| Knuth's Algorithm L               | $O(n! \\cdot n)$        | $O(n)$                | Yes                 | 3.6437500000s                         | Lexicographic order                      |\n",
    "| DFS                               | $O(n! \\cdot n)$        | $O(n)$                | Yes                 | 6.3687500000s                         | Simple recursive DFS                     |\n",
    "| DFS with bitmask                  | $O(n! \\cdot n)$        | $O(n)$                | Yes                 | 9.8500000000s                         | Uses bitmask instead of `used` array     |\n",
    "| Iterative DFS with bitmask        | $O(n! \\cdot n)$        | $O(n)$                | Yes                 | 10.2562500000s                        |                                          |\n",
    "| Iterative DFS                     | $O(n! \\cdot n)$        | $O(n)$                | Yes                 | 10.6406250000s                        | No recursion, explicit stack             |\n",
    "| Steinhaus–Johnson–Trotter         | $O(n! \\cdot n)$        | $O(n)$                | No                  | 10.9468750000s                        | Minimal-change order                     |\n",
    "| Lazy DFS                          | $O(n! \\cdot n)$        | $O(n)$                | Yes                 | 12.2437500000s                        | Lazy generation (yield)                  |\n",
    "| BFS                               | $O(n! \\cdot n^2)$      | $O(n! \\cdot n)$       | Yes                 | 12.6812500000s                        | Uses a queue (FIFO)                      |"
   ]
  },
  {
   "cell_type": "markdown",
   "id": "24d1b70a",
   "metadata": {},
   "source": [
    "#### __Conclusions__\n",
    "\n",
    "All but __BFS__ had the same time complexity, yet we observed drastic empirical time differences when running the algorithms,  \n",
    "\twith __Heap's algorithm__ performing about 5 times the rate of __BFS__. \n",
    "\t\n",
    "This is a good lesson teaching us that asymptotic growth rates simply explain how quickly the  \n",
    "algorithms' overhead increase as `n` grows large. It does not tell us exactly how two algorithms with the same  \n",
    "asymptotic behavior will compare. And since all these algorithms must grow at a rate of at least $O(n!)$,  \n",
    "as $n!$ permutations must be generated, even small `n`-values will take quite a long time to process.\n",
    "\n",
    "Consequently, we are never testing $n$ large enough for the growth difference between $O(n! \\cdot n^2)$ and $O(n! \\cdot n)$  \n",
    "to be shown effectively, as seen in the empirical time delta between __BFS__ and __Iterative DFS__.\n",
    "\n",
    "<br>\n",
    "\n",
    "- 🥇 __Best Performer – Heap’s Algorithm__\n",
    "\n",
    "\tHeap's algorithm is clearly the fastest by a large margin. Despite not generating permutations in lexicographic order,  \n",
    "\tit benefits from in-place, minimal memory manipulation and avoids the overhead of deep recursion or stack management.\n",
    "\n",
    "- 📈 __Strong Runner-Up – Knuth’s Algorithm L__\n",
    "\n",
    "\tIt’s highly optimized in practice for generating permutations in lexicographic order with minimal changes per step.  \n",
    "\n",
    "- 🧠 __Recursive DFS Outperforms Iterative Variants__\n",
    "\n",
    "\tSurprisingly, the plain recursive __DFS__ outperforms both iterative __DFS__ and the bitmask versions. This is likely due to:\n",
    "\n",
    "\t- **Function Call Optimization**: \n",
    "\n",
    "\t\tPython's recursive calls leverage efficient C-level stack frames, with predictable patterns that the interpreter can optimize.  \n",
    "\t\tIn contrast, manual stacks and objects like lists are subject to duck typing and dispatch overhead,  \n",
    "\t\tas their operations are more generalized to handle various use cases, which prevents the same level of optimization.\n",
    "\n",
    "\t- **Manual Stack Overhead**:  \n",
    "\n",
    "\t\tThe iterative __DFS__ implementations require explicit stack management,  \n",
    "\t\twhich in Python is less efficient due to its dynamic typing and higher-level abstractions.  \n",
    "\t\tEach operation on the stack can incur overhead from Python’s object management and dynamic resizing of memory.\n",
    "\n",
    "\t- **Bitmasking Performance**: \n",
    "\t\n",
    "\t\tWhile bitmasking seems like a good optimization for space efficiency, it introduces extra arithmetic and logic operations,  \n",
    "\t\twhich slow things down. \n",
    "\t\tIn Python, where integers are treated as objects with additional overhead (like type-checking)  \n",
    "\t\tcompared to low-level languages, bitmasking isn't as fast as manipulating simple lists of booleans.\n",
    "\n",
    "- 🐢 __Worst Performers – Lazy DFS and BFS__\n",
    "\n",
    "\t- __Lazy DFS__ suffers due to generator overhead. The use of generators (`yield`) incurs extra overhead due to state management.  \n",
    "\t\tIn Python, this overhead is significant because generators are implemented using closures, which require more operations per iteration.\n",
    "\n",
    "\t- __BFS__ is by far the slowest due to its time growth rate, $O(n! \\cdot n^2)$,  \n",
    "\t\tfrequent list operations, and the construction and copying of partial paths (list objects) in the queue.\n",
    "\n",
    "- ⚙️ __Optimizations Gone Wrong__\n",
    "\n",
    "\tSome optimizations (like bitmasking and iterative control) didn’t help performance here. \n",
    "\t\n",
    "\tWhile conceptually they reduce space or improve control, Python’s high-level nature and dynamic typing mean  \n",
    "\tthe cost of arithmetic and manual control structures outweighs their benefit—in contrast to languages with fixed-size primitive types, like C."
   ]
  },
  {
   "cell_type": "markdown",
   "id": "8a7f893d",
   "metadata": {},
   "source": [
    "<h2 id=\"unique\">Bonus – Generating Unique Permutations</h2>\n",
    "\n",
    "Let's adapt our easy-to-implement and fairly efficient __DFS__ to avoid generating duplicate permutations when we have objects that are identical.\n",
    "\n",
    "For instance, look at the permutations of `aab`."
   ]
  },
  {
   "cell_type": "code",
   "execution_count": 23,
   "id": "e3626f83",
   "metadata": {},
   "outputs": [
    {
     "name": "stdout",
     "output_type": "stream",
     "text": [
      "aab\n",
      "aba\n",
      "aab\n",
      "aba\n",
      "baa\n",
      "baa\n"
     ]
    }
   ],
   "source": [
    "string = 'aab'\n",
    "\n",
    "def print_path(path):\n",
    "\tprint(''.join(map_indices(path, string))) # Convert integer path to a sequence of objects\n",
    "\n",
    "gen_dfs(len(string))"
   ]
  },
  {
   "cell_type": "markdown",
   "id": "2cb37197",
   "metadata": {},
   "source": [
    "We have generated 3 duplicate permutations!\n",
    "\n",
    "This is because for each level in the __DFS__ we can either use the _first_ `a` or the _second_.\n",
    "\n",
    "The same possible branches stem from either decision since both cases use an `a`  \n",
    "at a particular depth, and the other is leftover.\n",
    "\n",
    "To illustrate this further, visualize 3 slots:\n",
    "\n",
    "`_ _ _`\n",
    "\n",
    "We have `a1`, `a2`, and `b` remaining.\n",
    "\n",
    "We can fill the first slot with `a1` or `a2`.\n",
    "\n",
    "- `a1 _ _` &ensp; with `a2` and `b` remaining.\n",
    "\n",
    "- `a2 _ _` &ensp; with `a1` and `b` remaining.\n",
    "\n",
    "Now, if we remove the identifiers, since `a1` and `a2` are identical, we are left with:\n",
    "\n",
    "- `a _ _` &ensp; with `a` and `b` remaining.\n",
    "\n",
    "- `a _ _` &ensp; with `a` and `b` remaining.\n",
    "\n",
    "Two duplicate states!\n",
    "\n",
    "Let us prune duplicate branches before being explored."
   ]
  },
  {
   "cell_type": "code",
   "execution_count": 24,
   "id": "5f66a4d8",
   "metadata": {},
   "outputs": [],
   "source": [
    "def gen_unique_dfs(objects):\n",
    "\tchars = sorted(objects) # Sort to enforce adjacent duplicates\n",
    "\tused = [False] * len(objects)\n",
    "\n",
    "\t# Now, we will build the permutations of the objects `chars` directly\n",
    "\tdef advance(p: list):\n",
    "\t\tif len(p) == len(chars): # Found permutation\n",
    "\t\t\tprint(''.join(p))\n",
    "\t\t\treturn\n",
    "\t\tfor i in range(len(chars)):\n",
    "\t\t\tif used[i]: # Already used this object in current p (not including duplicates)\n",
    "\t\t\t\tcontinue\n",
    "\t\t\t# Skip branches that are duplicates\n",
    "\t\t\t# -- choose only one `a` from a situation with many that remain unused (in the current path)\n",
    "\t\t\tif i > 0 and chars[i] == chars[i - 1] and not used[i - 1]:\n",
    "\t\t\t\tcontinue\n",
    "\t\t\tused[i] = True\n",
    "\t\t\tp.append(chars[i])\n",
    "\t\t\tadvance(p)\n",
    "\t\t\tp.pop()\n",
    "\t\t\tused[i] = False\n",
    "\t\n",
    "\tadvance([])"
   ]
  },
  {
   "cell_type": "code",
   "execution_count": 25,
   "id": "341c4143",
   "metadata": {},
   "outputs": [
    {
     "name": "stdout",
     "output_type": "stream",
     "text": [
      "aab\n",
      "aba\n",
      "baa\n"
     ]
    }
   ],
   "source": [
    "# Example usage\n",
    "gen_unique_dfs('aab')"
   ]
  },
  {
   "cell_type": "code",
   "execution_count": 26,
   "id": "35ffc885",
   "metadata": {},
   "outputs": [
    {
     "name": "stdout",
     "output_type": "stream",
     "text": [
      "aabbcc\n",
      "aabcbc\n",
      "aabccb\n",
      "aacbbc\n",
      "aacbcb\n",
      "aaccbb\n",
      "ababcc\n",
      "abacbc\n",
      "abaccb\n",
      "abbacc\n",
      "abbcac\n",
      "abbcca\n",
      "abcabc\n",
      "abcacb\n",
      "abcbac\n",
      "abcbca\n",
      "abccab\n",
      "abccba\n",
      "acabbc\n",
      "acabcb\n",
      "acacbb\n",
      "acbabc\n",
      "acbacb\n",
      "acbbac\n",
      "acbbca\n",
      "acbcab\n",
      "acbcba\n",
      "accabb\n",
      "accbab\n",
      "accbba\n",
      "baabcc\n",
      "baacbc\n",
      "baaccb\n",
      "babacc\n",
      "babcac\n",
      "babcca\n",
      "bacabc\n",
      "bacacb\n",
      "bacbac\n",
      "bacbca\n",
      "baccab\n",
      "baccba\n",
      "bbaacc\n",
      "bbacac\n",
      "bbacca\n",
      "bbcaac\n",
      "bbcaca\n",
      "bbccaa\n",
      "bcaabc\n",
      "bcaacb\n",
      "bcabac\n",
      "bcabca\n",
      "bcacab\n",
      "bcacba\n",
      "bcbaac\n",
      "bcbaca\n",
      "bcbcaa\n",
      "bccaab\n",
      "bccaba\n",
      "bccbaa\n",
      "caabbc\n",
      "caabcb\n",
      "caacbb\n",
      "cababc\n",
      "cabacb\n",
      "cabbac\n",
      "cabbca\n",
      "cabcab\n",
      "cabcba\n",
      "cacabb\n",
      "cacbab\n",
      "cacbba\n",
      "cbaabc\n",
      "cbaacb\n",
      "cbabac\n",
      "cbabca\n",
      "cbacab\n",
      "cbacba\n",
      "cbbaac\n",
      "cbbaca\n",
      "cbbcaa\n",
      "cbcaab\n",
      "cbcaba\n",
      "cbcbaa\n",
      "ccaabb\n",
      "ccabab\n",
      "ccabba\n",
      "ccbaab\n",
      "ccbaba\n",
      "ccbbaa\n"
     ]
    }
   ],
   "source": [
    "gen_unique_dfs('aabbcc')"
   ]
  }
 ],
 "metadata": {
  "kernelspec": {
   "display_name": "Python 3",
   "language": "python",
   "name": "python3"
  },
  "language_info": {
   "codemirror_mode": {
    "name": "ipython",
    "version": 3
   },
   "file_extension": ".py",
   "mimetype": "text/x-python",
   "name": "python",
   "nbconvert_exporter": "python",
   "pygments_lexer": "ipython3",
   "version": "3.10.1"
  }
 },
 "nbformat": 4,
 "nbformat_minor": 5
}
